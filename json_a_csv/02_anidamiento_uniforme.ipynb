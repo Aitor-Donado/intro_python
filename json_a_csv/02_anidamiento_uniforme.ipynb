{
 "cells": [
  {
   "attachments": {},
   "cell_type": "markdown",
   "metadata": {},
   "source": [
    "# Carga de JSON a CSV"
   ]
  },
  {
   "cell_type": "markdown",
   "metadata": {},
   "source": [
    "Este método es válido cuando **todos los datos** a extraer se encuentran **en el mismo nivel de anidamiento**.\n",
    "\n",
    "Si los datos pueden estar a distintos niveles, hay que utilizar el método de `aplanamiento.py`"
   ]
  },
  {
   "cell_type": "code",
   "execution_count": 19,
   "metadata": {},
   "outputs": [],
   "source": [
    "import json\n",
    "import pandas as pd"
   ]
  },
  {
   "cell_type": "code",
   "execution_count": 20,
   "metadata": {},
   "outputs": [],
   "source": [
    "# Apertura del archivo\n",
    "carpeta_datos = \"./datos/\"\n",
    "f = open(carpeta_datos + '11369319.json')\n",
    "\n",
    "# Conversión en diccionario\n",
    "data = json.load(f)\n",
    "# Cierre del archivo\n",
    "f.close()"
   ]
  },
  {
   "cell_type": "code",
   "execution_count": 21,
   "metadata": {},
   "outputs": [
    {
     "name": "stdout",
     "output_type": "stream",
     "text": [
      "{'statistics': [{'period': 'ALL', 'groups': [{'groupName': 'Expected', 'statisticsItems': [{'name': 'Expected goals', 'home': '3.20', 'away': '1.81', 'compareCode': 1, 'statisticsType': 'positive', 'valueType': 'event', 'homeValue': 3.2, 'awayValue': 1.81}, {'name': 'Expected assists', 'home': '2.60', 'away': '1.07', 'compareCode': 1, 'statisticsType': 'positive', 'valueType': 'event', 'homeValue': 2.6, 'awayValue': 1.07}]}, {'groupName': 'Possession', 'statisticsItems': [{'name': 'Ball possession', 'home': '56%', 'away': '44%', 'compareCode': 1, 'statisticsType': 'positive', 'valueType': 'event', 'homeValue': 56, 'awayValue': 44}]}, {'groupName': 'Shots', 'statisticsItems': [{'name': 'Total shots', 'home': '23', 'away': '15', 'compareCode': 1, 'statisticsType': 'positive', 'valueType': 'event', 'homeValue': 23, 'awayValue': 15}, {'name': 'Shots on target', 'home': '10', 'away': '5', 'compareCode': 1, 'statisticsType': 'positive', 'valueType': 'event', 'homeValue': 10, 'awayValue': 5}, {'name': 'Shots off target', 'home': '10', 'away': '5', 'compareCode': 1, 'statisticsType': 'negative', 'valueType': 'event', 'homeValue': 10, 'awayValue': 5}, {'name': 'Blocked shots', 'home': '3', 'away': '5', 'compareCode': 2, 'statisticsType': 'negative', 'valueType': 'event', 'homeValue': 3, 'awayValue': 5}]}, {'groupName': 'TVData', 'statisticsItems': [{'name': 'Corner kicks', 'home': '6', 'away': '5', 'compareCode': 1, 'statisticsType': 'positive', 'valueType': 'event', 'homeValue': 6, 'awayValue': 5}, {'name': 'Offsides', 'home': '1', 'away': '3', 'compareCode': 2, 'statisticsType': 'negative', 'valueType': 'event', 'homeValue': 1, 'awayValue': 3}, {'name': 'Fouls', 'home': '10', 'away': '12', 'compareCode': 2, 'statisticsType': 'negative', 'valueType': 'event', 'homeValue': 10, 'awayValue': 12}, {'name': 'Yellow cards', 'home': '1', 'away': '5', 'compareCode': 2, 'statisticsType': 'negative', 'valueType': 'event', 'homeValue': 1, 'awayValue': 5}, {'name': 'Free kicks', 'home': '12', 'away': '8', 'compareCode': 1, 'statisticsType': 'positive', 'valueType': 'event', 'homeValue': 12, 'awayValue': 8}, {'name': 'Throw-ins', 'home': '15', 'away': '14', 'compareCode': 1, 'statisticsType': 'positive', 'valueType': 'event', 'homeValue': 15, 'awayValue': 14}, {'name': 'Goal kicks', 'home': '6', 'away': '11', 'compareCode': 2, 'statisticsType': 'positive', 'valueType': 'event', 'homeValue': 6, 'awayValue': 11}]}, {'groupName': 'Shots extra', 'statisticsItems': [{'name': 'Big chances', 'home': '7', 'away': '4', 'compareCode': 1, 'statisticsType': 'positive', 'valueType': 'event', 'homeValue': 7, 'awayValue': 4}, {'name': 'Big chances missed', 'home': '4', 'away': '1', 'compareCode': 1, 'statisticsType': 'negative', 'valueType': 'event', 'homeValue': 4, 'awayValue': 1}, {'name': 'Shots inside box', 'home': '16', 'away': '10', 'compareCode': 1, 'statisticsType': 'positive', 'valueType': 'event', 'homeValue': 16, 'awayValue': 10}, {'name': 'Shots outside box', 'home': '7', 'away': '5', 'compareCode': 1, 'statisticsType': 'positive', 'valueType': 'event', 'homeValue': 7, 'awayValue': 5}, {'name': 'Goalkeeper saves', 'home': '2', 'away': '4', 'compareCode': 2, 'statisticsType': 'positive', 'valueType': 'event', 'homeValue': 2, 'awayValue': 4}, {'name': 'Goals prevented', 'home': '-0.49', 'away': '-1.28', 'compareCode': 1, 'statisticsType': 'positive', 'valueType': 'event', 'homeValue': -0.49, 'awayValue': -1.28}]}, {'groupName': 'Passes', 'statisticsItems': [{'name': 'Passes', 'home': '530', 'away': '405', 'compareCode': 1, 'statisticsType': 'positive', 'valueType': 'event', 'homeValue': 530, 'awayValue': 405}, {'name': 'Accurate passes', 'home': '466 (88%)', 'away': '343 (85%)', 'compareCode': 1, 'statisticsType': 'positive', 'valueType': 'event', 'homeValue': 466, 'awayValue': 343}, {'name': 'Long balls', 'home': '21/41 (51%)', 'away': '27/54 (50%)', 'compareCode': 1, 'statisticsType': 'positive', 'valueType': 'team', 'homeValue': 21, 'awayValue': 27, 'homeTotal': 41, 'awayTotal': 54}, {'name': 'Crosses', 'home': '9/20 (45%)', 'away': '6/18 (33%)', 'compareCode': 1, 'statisticsType': 'positive', 'valueType': 'team', 'homeValue': 9, 'awayValue': 6, 'homeTotal': 20, 'awayTotal': 18}]}, {'groupName': 'Duels', 'statisticsItems': [{'name': 'Dribbles', 'home': '6/9 (67%)', 'away': '4/8 (50%)', 'compareCode': 1, 'statisticsType': 'positive', 'valueType': 'team', 'homeValue': 6, 'awayValue': 4, 'homeTotal': 9, 'awayTotal': 8}, {'name': 'Possession lost', 'home': '101', 'away': '103', 'compareCode': 2, 'statisticsType': 'negative', 'valueType': 'event', 'homeValue': 101, 'awayValue': 103}, {'name': 'Duels won', 'home': '40', 'away': '32', 'compareCode': 1, 'statisticsType': 'positive', 'valueType': 'event', 'homeValue': 40, 'awayValue': 32}, {'name': 'Aerials won', 'home': '10', 'away': '11', 'compareCode': 2, 'statisticsType': 'positive', 'valueType': 'event', 'homeValue': 10, 'awayValue': 11}]}, {'groupName': 'Defending', 'statisticsItems': [{'name': 'Tackles', 'home': '12', 'away': '9', 'compareCode': 1, 'statisticsType': 'positive', 'valueType': 'event', 'homeValue': 12, 'awayValue': 9}, {'name': 'Interceptions', 'home': '4', 'away': '3', 'compareCode': 1, 'statisticsType': 'positive', 'valueType': 'event', 'homeValue': 4, 'awayValue': 3}, {'name': 'Clearances', 'home': '7', 'away': '22', 'compareCode': 2, 'statisticsType': 'positive', 'valueType': 'event', 'homeValue': 7, 'awayValue': 22}]}]}, {'period': '1ST', 'groups': [{'groupName': 'Expected', 'statisticsItems': [{'name': 'Expected goals', 'home': '1.95', 'away': '0.88', 'compareCode': 1, 'statisticsType': 'positive', 'valueType': 'event', 'homeValue': 1.95, 'awayValue': 0.88}, {'name': 'Expected assists', 'home': '1.84', 'away': '0.08', 'compareCode': 1, 'statisticsType': 'positive', 'valueType': 'event', 'homeValue': 1.84, 'awayValue': 0.08}]}, {'groupName': 'Possession', 'statisticsItems': [{'name': 'Ball possession', 'home': '72%', 'away': '28%', 'compareCode': 1, 'statisticsType': 'positive', 'valueType': 'event', 'homeValue': 72, 'awayValue': 28}]}, {'groupName': 'Shots', 'statisticsItems': [{'name': 'Total shots', 'home': '15', 'away': '3', 'compareCode': 1, 'statisticsType': 'positive', 'valueType': 'event', 'homeValue': 15, 'awayValue': 3}, {'name': 'Shots on target', 'home': '7', 'away': '1', 'compareCode': 1, 'statisticsType': 'positive', 'valueType': 'event', 'homeValue': 7, 'awayValue': 1}, {'name': 'Shots off target', 'home': '5', 'away': '1', 'compareCode': 1, 'statisticsType': 'negative', 'valueType': 'event', 'homeValue': 5, 'awayValue': 1}, {'name': 'Blocked shots', 'home': '3', 'away': '1', 'compareCode': 1, 'statisticsType': 'negative', 'valueType': 'event', 'homeValue': 3, 'awayValue': 1}]}, {'groupName': 'TVData', 'statisticsItems': [{'name': 'Corner kicks', 'home': '3', 'away': '4', 'compareCode': 2, 'statisticsType': 'positive', 'valueType': 'event', 'homeValue': 3, 'awayValue': 4}, {'name': 'Offsides', 'home': '1', 'away': '0', 'compareCode': 1, 'statisticsType': 'negative', 'valueType': 'event', 'homeValue': 1, 'awayValue': 0}, {'name': 'Yellow cards', 'home': '0', 'away': '4', 'compareCode': 2, 'statisticsType': 'negative', 'valueType': 'event', 'homeValue': 0, 'awayValue': 4}, {'name': 'Free kicks', 'home': '4', 'away': '1', 'compareCode': 1, 'statisticsType': 'positive', 'valueType': 'event', 'homeValue': 4, 'awayValue': 1}, {'name': 'Throw-ins', 'home': '10', 'away': '4', 'compareCode': 1, 'statisticsType': 'positive', 'valueType': 'event', 'homeValue': 10, 'awayValue': 4}, {'name': 'Goal kicks', 'home': '1', 'away': '7', 'compareCode': 2, 'statisticsType': 'positive', 'valueType': 'event', 'homeValue': 1, 'awayValue': 7}]}, {'groupName': 'Shots extra', 'statisticsItems': [{'name': 'Big chances', 'home': '3', 'away': '1', 'compareCode': 1, 'statisticsType': 'positive', 'valueType': 'event', 'homeValue': 3, 'awayValue': 1}, {'name': 'Big chances missed', 'home': '1', 'away': '0', 'compareCode': 1, 'statisticsType': 'negative', 'valueType': 'event', 'homeValue': 1, 'awayValue': 0}, {'name': 'Shots inside box', 'home': '11', 'away': '2', 'compareCode': 1, 'statisticsType': 'positive', 'valueType': 'event', 'homeValue': 11, 'awayValue': 2}, {'name': 'Shots outside box', 'home': '4', 'away': '1', 'compareCode': 1, 'statisticsType': 'positive', 'valueType': 'event', 'homeValue': 4, 'awayValue': 1}, {'name': 'Goalkeeper saves', 'home': '0', 'away': '3', 'compareCode': 2, 'statisticsType': 'positive', 'valueType': 'event', 'homeValue': 0, 'awayValue': 3}]}, {'groupName': 'Passes', 'statisticsItems': [{'name': 'Passes', 'home': '355', 'away': '136', 'compareCode': 1, 'statisticsType': 'positive', 'valueType': 'event', 'homeValue': 355, 'awayValue': 136}, {'name': 'Accurate passes', 'home': '326 (92%)', 'away': '100 (74%)', 'compareCode': 1, 'statisticsType': 'positive', 'valueType': 'event', 'homeValue': 326, 'awayValue': 100}, {'name': 'Long balls', 'home': '11/19 (58%)', 'away': '9/29 (31%)', 'compareCode': 1, 'statisticsType': 'positive', 'valueType': 'team', 'homeValue': 11, 'awayValue': 9, 'homeTotal': 19, 'awayTotal': 29}, {'name': 'Crosses', 'home': '6/14 (43%)', 'away': '0/7 (0%)', 'compareCode': 1, 'statisticsType': 'positive', 'valueType': 'team', 'homeValue': 6, 'awayValue': 0, 'homeTotal': 14, 'awayTotal': 7}]}, {'groupName': 'Duels', 'statisticsItems': [{'name': 'Dribbles', 'home': '2/4 (50%)', 'away': '2/3 (67%)', 'compareCode': 2, 'statisticsType': 'positive', 'valueType': 'team', 'homeValue': 2, 'awayValue': 2, 'homeTotal': 4, 'awayTotal': 3}, {'name': 'Possession lost', 'home': '53', 'away': '54', 'compareCode': 2, 'statisticsType': 'negative', 'valueType': 'event', 'homeValue': 53, 'awayValue': 54}, {'name': 'Duels won', 'home': '12', 'away': '15', 'compareCode': 2, 'statisticsType': 'positive', 'valueType': 'event', 'homeValue': 12, 'awayValue': 15}, {'name': 'Aerials won', 'home': '3', 'away': '7', 'compareCode': 2, 'statisticsType': 'positive', 'valueType': 'event', 'homeValue': 3, 'awayValue': 7}]}, {'groupName': 'Defending', 'statisticsItems': [{'name': 'Tackles', 'home': '3', 'away': '5', 'compareCode': 2, 'statisticsType': 'positive', 'valueType': 'event', 'homeValue': 3, 'awayValue': 5}, {'name': 'Interceptions', 'home': '2', 'away': '1', 'compareCode': 1, 'statisticsType': 'positive', 'valueType': 'event', 'homeValue': 2, 'awayValue': 1}, {'name': 'Clearances', 'home': '3', 'away': '18', 'compareCode': 2, 'statisticsType': 'positive', 'valueType': 'event', 'homeValue': 3, 'awayValue': 18}]}]}, {'period': '2ND', 'groups': [{'groupName': 'Expected', 'statisticsItems': [{'name': 'Expected goals', 'home': '1.25', 'away': '0.94', 'compareCode': 1, 'statisticsType': 'positive', 'valueType': 'event', 'homeValue': 1.25, 'awayValue': 0.94}, {'name': 'Expected assists', 'home': '0.76', 'away': '0.99', 'compareCode': 2, 'statisticsType': 'positive', 'valueType': 'event', 'homeValue': 0.76, 'awayValue': 0.99}]}, {'groupName': 'Possession', 'statisticsItems': [{'name': 'Ball possession', 'home': '39%', 'away': '61%', 'compareCode': 2, 'statisticsType': 'positive', 'valueType': 'event', 'homeValue': 39, 'awayValue': 61}]}, {'groupName': 'Shots', 'statisticsItems': [{'name': 'Total shots', 'home': '8', 'away': '12', 'compareCode': 2, 'statisticsType': 'positive', 'valueType': 'event', 'homeValue': 8, 'awayValue': 12}, {'name': 'Shots on target', 'home': '3', 'away': '4', 'compareCode': 2, 'statisticsType': 'positive', 'valueType': 'event', 'homeValue': 3, 'awayValue': 4}, {'name': 'Shots off target', 'home': '5', 'away': '4', 'compareCode': 1, 'statisticsType': 'negative', 'valueType': 'event', 'homeValue': 5, 'awayValue': 4}, {'name': 'Blocked shots', 'home': '0', 'away': '4', 'compareCode': 2, 'statisticsType': 'negative', 'valueType': 'event', 'homeValue': 0, 'awayValue': 4}]}, {'groupName': 'TVData', 'statisticsItems': [{'name': 'Corner kicks', 'home': '3', 'away': '1', 'compareCode': 1, 'statisticsType': 'positive', 'valueType': 'event', 'homeValue': 3, 'awayValue': 1}, {'name': 'Offsides', 'home': '0', 'away': '3', 'compareCode': 2, 'statisticsType': 'negative', 'valueType': 'event', 'homeValue': 0, 'awayValue': 3}, {'name': 'Yellow cards', 'home': '1', 'away': '1', 'compareCode': 3, 'statisticsType': 'negative', 'valueType': 'event', 'homeValue': 1, 'awayValue': 1}, {'name': 'Free kicks', 'home': '8', 'away': '7', 'compareCode': 1, 'statisticsType': 'positive', 'valueType': 'event', 'homeValue': 8, 'awayValue': 7}, {'name': 'Throw-ins', 'home': '5', 'away': '10', 'compareCode': 2, 'statisticsType': 'positive', 'valueType': 'event', 'homeValue': 5, 'awayValue': 10}, {'name': 'Goal kicks', 'home': '5', 'away': '4', 'compareCode': 1, 'statisticsType': 'positive', 'valueType': 'event', 'homeValue': 5, 'awayValue': 4}]}, {'groupName': 'Shots extra', 'statisticsItems': [{'name': 'Big chances', 'home': '4', 'away': '3', 'compareCode': 1, 'statisticsType': 'positive', 'valueType': 'event', 'homeValue': 4, 'awayValue': 3}, {'name': 'Big chances missed', 'home': '3', 'away': '1', 'compareCode': 1, 'statisticsType': 'negative', 'valueType': 'event', 'homeValue': 3, 'awayValue': 1}, {'name': 'Shots inside box', 'home': '5', 'away': '8', 'compareCode': 2, 'statisticsType': 'positive', 'valueType': 'event', 'homeValue': 5, 'awayValue': 8}, {'name': 'Shots outside box', 'home': '3', 'away': '4', 'compareCode': 2, 'statisticsType': 'positive', 'valueType': 'event', 'homeValue': 3, 'awayValue': 4}, {'name': 'Goalkeeper saves', 'home': '2', 'away': '1', 'compareCode': 1, 'statisticsType': 'positive', 'valueType': 'event', 'homeValue': 2, 'awayValue': 1}]}, {'groupName': 'Passes', 'statisticsItems': [{'name': 'Passes', 'home': '175', 'away': '269', 'compareCode': 2, 'statisticsType': 'positive', 'valueType': 'event', 'homeValue': 175, 'awayValue': 269}, {'name': 'Accurate passes', 'home': '140 (80%)', 'away': '243 (90%)', 'compareCode': 2, 'statisticsType': 'positive', 'valueType': 'event', 'homeValue': 140, 'awayValue': 243}, {'name': 'Long balls', 'home': '10/22 (45%)', 'away': '18/25 (72%)', 'compareCode': 2, 'statisticsType': 'positive', 'valueType': 'team', 'homeValue': 10, 'awayValue': 18, 'homeTotal': 22, 'awayTotal': 25}, {'name': 'Crosses', 'home': '3/6 (50%)', 'away': '6/11 (55%)', 'compareCode': 2, 'statisticsType': 'positive', 'valueType': 'team', 'homeValue': 3, 'awayValue': 6, 'homeTotal': 6, 'awayTotal': 11}]}, {'groupName': 'Duels', 'statisticsItems': [{'name': 'Dribbles', 'home': '4/5 (80%)', 'away': '2/5 (40%)', 'compareCode': 1, 'statisticsType': 'positive', 'valueType': 'team', 'homeValue': 4, 'awayValue': 2, 'homeTotal': 5, 'awayTotal': 5}, {'name': 'Possession lost', 'home': '48', 'away': '49', 'compareCode': 2, 'statisticsType': 'negative', 'valueType': 'event', 'homeValue': 48, 'awayValue': 49}, {'name': 'Duels won', 'home': '28', 'away': '17', 'compareCode': 1, 'statisticsType': 'positive', 'valueType': 'event', 'homeValue': 28, 'awayValue': 17}, {'name': 'Aerials won', 'home': '7', 'away': '4', 'compareCode': 1, 'statisticsType': 'positive', 'valueType': 'event', 'homeValue': 7, 'awayValue': 4}]}, {'groupName': 'Defending', 'statisticsItems': [{'name': 'Tackles', 'home': '9', 'away': '4', 'compareCode': 1, 'statisticsType': 'positive', 'valueType': 'event', 'homeValue': 9, 'awayValue': 4}, {'name': 'Interceptions', 'home': '2', 'away': '2', 'compareCode': 3, 'statisticsType': 'positive', 'valueType': 'event', 'homeValue': 2, 'awayValue': 2}, {'name': 'Clearances', 'home': '4', 'away': '4', 'compareCode': 3, 'statisticsType': 'positive', 'valueType': 'event', 'homeValue': 4, 'awayValue': 4}]}]}]}\n"
     ]
    }
   ],
   "source": [
    "print(data)"
   ]
  },
  {
   "attachments": {},
   "cell_type": "markdown",
   "metadata": {},
   "source": [
    "Normalize no nos satisface"
   ]
  },
  {
   "cell_type": "code",
   "execution_count": 22,
   "metadata": {},
   "outputs": [
    {
     "data": {
      "text/html": [
       "<div>\n",
       "<style scoped>\n",
       "    .dataframe tbody tr th:only-of-type {\n",
       "        vertical-align: middle;\n",
       "    }\n",
       "\n",
       "    .dataframe tbody tr th {\n",
       "        vertical-align: top;\n",
       "    }\n",
       "\n",
       "    .dataframe thead th {\n",
       "        text-align: right;\n",
       "    }\n",
       "</style>\n",
       "<table border=\"1\" class=\"dataframe\">\n",
       "  <thead>\n",
       "    <tr style=\"text-align: right;\">\n",
       "      <th></th>\n",
       "      <th>statistics</th>\n",
       "    </tr>\n",
       "  </thead>\n",
       "  <tbody>\n",
       "    <tr>\n",
       "      <th>0</th>\n",
       "      <td>[{'period': 'ALL', 'groups': [{'groupName': 'E...</td>\n",
       "    </tr>\n",
       "  </tbody>\n",
       "</table>\n",
       "</div>"
      ],
      "text/plain": [
       "                                          statistics\n",
       "0  [{'period': 'ALL', 'groups': [{'groupName': 'E..."
      ]
     },
     "execution_count": 22,
     "metadata": {},
     "output_type": "execute_result"
    }
   ],
   "source": [
    "df = pd.json_normalize(data, sep='_')\n",
    "df.head()"
   ]
  },
  {
   "attachments": {},
   "cell_type": "markdown",
   "metadata": {},
   "source": [
    "La información se encuentra en una única clave dentro del diccionario llamada statistics"
   ]
  },
  {
   "cell_type": "code",
   "execution_count": 23,
   "metadata": {},
   "outputs": [],
   "source": [
    "data = data[\"statistics\"]"
   ]
  },
  {
   "attachments": {},
   "cell_type": "markdown",
   "metadata": {},
   "source": [
    "Dentro de data, ahora hay una lista de tres elementos. \n",
    "Tomamos el primero, que corresponde al partido completo. Los otros dos son para el primer y segundo tiempo."
   ]
  },
  {
   "cell_type": "code",
   "execution_count": 24,
   "metadata": {},
   "outputs": [],
   "source": [
    "all = data[0][\"groups\"]"
   ]
  },
  {
   "attachments": {},
   "cell_type": "markdown",
   "metadata": {},
   "source": [
    "Ahora json-normalize hace mejor trabajo"
   ]
  },
  {
   "cell_type": "code",
   "execution_count": 25,
   "metadata": {},
   "outputs": [
    {
     "name": "stdout",
     "output_type": "stream",
     "text": [
      "     groupName                                    statisticsItems\n",
      "0     Expected  [{'name': 'Expected goals', 'home': '3.20', 'a...\n",
      "1   Possession  [{'name': 'Ball possession', 'home': '56%', 'a...\n",
      "2        Shots  [{'name': 'Total shots', 'home': '23', 'away':...\n",
      "3       TVData  [{'name': 'Corner kicks', 'home': '6', 'away':...\n",
      "4  Shots extra  [{'name': 'Big chances', 'home': '7', 'away': ...\n",
      "5       Passes  [{'name': 'Passes', 'home': '530', 'away': '40...\n",
      "6        Duels  [{'name': 'Dribbles', 'home': '6/9 (67%)', 'aw...\n",
      "7    Defending  [{'name': 'Tackles', 'home': '12', 'away': '9'...\n"
     ]
    }
   ],
   "source": [
    "json_all =json.dumps(all)\n",
    "df = pd.json_normalize(json.loads(json_all), sep='_')\n",
    "print(df)"
   ]
  },
  {
   "attachments": {},
   "cell_type": "markdown",
   "metadata": {},
   "source": [
    "La columna statisticsItems contiene una lista de listas. Si alineo los elementos en una sola lista unidimensional..."
   ]
  },
  {
   "cell_type": "code",
   "execution_count": 9,
   "metadata": {},
   "outputs": [
    {
     "name": "stdout",
     "output_type": "stream",
     "text": [
      "[{'name': 'Expected goals', 'home': '3.20', 'away': '1.81', 'compareCode': 1, 'statisticsType': 'positive', 'valueType': 'event', 'homeValue': 3.2, 'awayValue': 1.81}, {'name': 'Expected assists', 'home': '2.60', 'away': '1.07', 'compareCode': 1, 'statisticsType': 'positive', 'valueType': 'event', 'homeValue': 2.6, 'awayValue': 1.07}, {'name': 'Ball possession', 'home': '56%', 'away': '44%', 'compareCode': 1, 'statisticsType': 'positive', 'valueType': 'event', 'homeValue': 56, 'awayValue': 44}, {'name': 'Total shots', 'home': '23', 'away': '15', 'compareCode': 1, 'statisticsType': 'positive', 'valueType': 'event', 'homeValue': 23, 'awayValue': 15}, {'name': 'Shots on target', 'home': '10', 'away': '5', 'compareCode': 1, 'statisticsType': 'positive', 'valueType': 'event', 'homeValue': 10, 'awayValue': 5}, {'name': 'Shots off target', 'home': '10', 'away': '5', 'compareCode': 1, 'statisticsType': 'negative', 'valueType': 'event', 'homeValue': 10, 'awayValue': 5}, {'name': 'Blocked shots', 'home': '3', 'away': '5', 'compareCode': 2, 'statisticsType': 'negative', 'valueType': 'event', 'homeValue': 3, 'awayValue': 5}, {'name': 'Corner kicks', 'home': '6', 'away': '5', 'compareCode': 1, 'statisticsType': 'positive', 'valueType': 'event', 'homeValue': 6, 'awayValue': 5}, {'name': 'Offsides', 'home': '1', 'away': '3', 'compareCode': 2, 'statisticsType': 'negative', 'valueType': 'event', 'homeValue': 1, 'awayValue': 3}, {'name': 'Fouls', 'home': '10', 'away': '12', 'compareCode': 2, 'statisticsType': 'negative', 'valueType': 'event', 'homeValue': 10, 'awayValue': 12}, {'name': 'Yellow cards', 'home': '1', 'away': '5', 'compareCode': 2, 'statisticsType': 'negative', 'valueType': 'event', 'homeValue': 1, 'awayValue': 5}, {'name': 'Free kicks', 'home': '12', 'away': '8', 'compareCode': 1, 'statisticsType': 'positive', 'valueType': 'event', 'homeValue': 12, 'awayValue': 8}, {'name': 'Throw-ins', 'home': '15', 'away': '14', 'compareCode': 1, 'statisticsType': 'positive', 'valueType': 'event', 'homeValue': 15, 'awayValue': 14}, {'name': 'Goal kicks', 'home': '6', 'away': '11', 'compareCode': 2, 'statisticsType': 'positive', 'valueType': 'event', 'homeValue': 6, 'awayValue': 11}, {'name': 'Big chances', 'home': '7', 'away': '4', 'compareCode': 1, 'statisticsType': 'positive', 'valueType': 'event', 'homeValue': 7, 'awayValue': 4}, {'name': 'Big chances missed', 'home': '4', 'away': '1', 'compareCode': 1, 'statisticsType': 'negative', 'valueType': 'event', 'homeValue': 4, 'awayValue': 1}, {'name': 'Shots inside box', 'home': '16', 'away': '10', 'compareCode': 1, 'statisticsType': 'positive', 'valueType': 'event', 'homeValue': 16, 'awayValue': 10}, {'name': 'Shots outside box', 'home': '7', 'away': '5', 'compareCode': 1, 'statisticsType': 'positive', 'valueType': 'event', 'homeValue': 7, 'awayValue': 5}, {'name': 'Goalkeeper saves', 'home': '2', 'away': '4', 'compareCode': 2, 'statisticsType': 'positive', 'valueType': 'event', 'homeValue': 2, 'awayValue': 4}, {'name': 'Goals prevented', 'home': '-0.49', 'away': '-1.28', 'compareCode': 1, 'statisticsType': 'positive', 'valueType': 'event', 'homeValue': -0.49, 'awayValue': -1.28}, {'name': 'Passes', 'home': '530', 'away': '405', 'compareCode': 1, 'statisticsType': 'positive', 'valueType': 'event', 'homeValue': 530, 'awayValue': 405}, {'name': 'Accurate passes', 'home': '466 (88%)', 'away': '343 (85%)', 'compareCode': 1, 'statisticsType': 'positive', 'valueType': 'event', 'homeValue': 466, 'awayValue': 343}, {'name': 'Long balls', 'home': '21/41 (51%)', 'away': '27/54 (50%)', 'compareCode': 1, 'statisticsType': 'positive', 'valueType': 'team', 'homeValue': 21, 'awayValue': 27, 'homeTotal': 41, 'awayTotal': 54}, {'name': 'Crosses', 'home': '9/20 (45%)', 'away': '6/18 (33%)', 'compareCode': 1, 'statisticsType': 'positive', 'valueType': 'team', 'homeValue': 9, 'awayValue': 6, 'homeTotal': 20, 'awayTotal': 18}, {'name': 'Dribbles', 'home': '6/9 (67%)', 'away': '4/8 (50%)', 'compareCode': 1, 'statisticsType': 'positive', 'valueType': 'team', 'homeValue': 6, 'awayValue': 4, 'homeTotal': 9, 'awayTotal': 8}, {'name': 'Possession lost', 'home': '101', 'away': '103', 'compareCode': 2, 'statisticsType': 'negative', 'valueType': 'event', 'homeValue': 101, 'awayValue': 103}, {'name': 'Duels won', 'home': '40', 'away': '32', 'compareCode': 1, 'statisticsType': 'positive', 'valueType': 'event', 'homeValue': 40, 'awayValue': 32}, {'name': 'Aerials won', 'home': '10', 'away': '11', 'compareCode': 2, 'statisticsType': 'positive', 'valueType': 'event', 'homeValue': 10, 'awayValue': 11}, {'name': 'Tackles', 'home': '12', 'away': '9', 'compareCode': 1, 'statisticsType': 'positive', 'valueType': 'event', 'homeValue': 12, 'awayValue': 9}, {'name': 'Interceptions', 'home': '4', 'away': '3', 'compareCode': 1, 'statisticsType': 'positive', 'valueType': 'event', 'homeValue': 4, 'awayValue': 3}, {'name': 'Clearances', 'home': '7', 'away': '22', 'compareCode': 2, 'statisticsType': 'positive', 'valueType': 'event', 'homeValue': 7, 'awayValue': 22}]\n"
     ]
    }
   ],
   "source": [
    "statistics_items = df[\"statisticsItems\"].tolist()\n",
    "statistics_items\n",
    "\n",
    "items = []\n",
    "for elemento in statistics_items:\n",
    "    items.extend(elemento)\n",
    "print(items)"
   ]
  },
  {
   "attachments": {},
   "cell_type": "markdown",
   "metadata": {},
   "source": [
    "Ya tengo una lista de diccionarios, todos iguales. Si lo convierto en un dataframe ya tengo los datos numéricos en celdas individuales"
   ]
  },
  {
   "cell_type": "code",
   "execution_count": 12,
   "metadata": {},
   "outputs": [
    {
     "name": "stdout",
     "output_type": "stream",
     "text": [
      "                            0                 1                2   \\\n",
      "name            Expected goals  Expected assists  Ball possession   \n",
      "home                      3.20              2.60              56%   \n",
      "away                      1.81              1.07              44%   \n",
      "compareCode                  1                 1                1   \n",
      "statisticsType        positive          positive         positive   \n",
      "valueType                event             event            event   \n",
      "homeValue                  3.2               2.6             56.0   \n",
      "awayValue                 1.81              1.07             44.0   \n",
      "homeTotal                  NaN               NaN              NaN   \n",
      "awayTotal                  NaN               NaN              NaN   \n",
      "\n",
      "                         3                4                 5              6   \\\n",
      "name            Total shots  Shots on target  Shots off target  Blocked shots   \n",
      "home                     23               10                10              3   \n",
      "away                     15                5                 5              5   \n",
      "compareCode               1                1                 1              2   \n",
      "statisticsType     positive         positive          negative       negative   \n",
      "valueType             event            event             event          event   \n",
      "homeValue              23.0             10.0              10.0            3.0   \n",
      "awayValue              15.0              5.0               5.0            5.0   \n",
      "homeTotal               NaN              NaN               NaN            NaN   \n",
      "awayTotal               NaN              NaN               NaN            NaN   \n",
      "\n",
      "                          7         8         9   ...               21  \\\n",
      "name            Corner kicks  Offsides     Fouls  ...  Accurate passes   \n",
      "home                       6         1        10  ...        466 (88%)   \n",
      "away                       5         3        12  ...        343 (85%)   \n",
      "compareCode                1         2         2  ...                1   \n",
      "statisticsType      positive  negative  negative  ...         positive   \n",
      "valueType              event     event     event  ...            event   \n",
      "homeValue                6.0       1.0      10.0  ...            466.0   \n",
      "awayValue                5.0       3.0      12.0  ...            343.0   \n",
      "homeTotal                NaN       NaN       NaN  ...              NaN   \n",
      "awayTotal                NaN       NaN       NaN  ...              NaN   \n",
      "\n",
      "                         22          23         24               25  \\\n",
      "name             Long balls     Crosses   Dribbles  Possession lost   \n",
      "home            21/41 (51%)  9/20 (45%)  6/9 (67%)              101   \n",
      "away            27/54 (50%)  6/18 (33%)  4/8 (50%)              103   \n",
      "compareCode               1           1          1                2   \n",
      "statisticsType     positive    positive   positive         negative   \n",
      "valueType              team        team       team            event   \n",
      "homeValue              21.0         9.0        6.0            101.0   \n",
      "awayValue              27.0         6.0        4.0            103.0   \n",
      "homeTotal              41.0        20.0        9.0              NaN   \n",
      "awayTotal              54.0        18.0        8.0              NaN   \n",
      "\n",
      "                       26           27        28             29          30  \n",
      "name            Duels won  Aerials won   Tackles  Interceptions  Clearances  \n",
      "home                   40           10        12              4           7  \n",
      "away                   32           11         9              3          22  \n",
      "compareCode             1            2         1              1           2  \n",
      "statisticsType   positive     positive  positive       positive    positive  \n",
      "valueType           event        event     event          event       event  \n",
      "homeValue            40.0         10.0      12.0            4.0         7.0  \n",
      "awayValue            32.0         11.0       9.0            3.0        22.0  \n",
      "homeTotal             NaN          NaN       NaN            NaN         NaN  \n",
      "awayTotal             NaN          NaN       NaN            NaN         NaN  \n",
      "\n",
      "[10 rows x 31 columns]\n"
     ]
    }
   ],
   "source": [
    "datos_final = pd.DataFrame(items)\n",
    "datos_final = datos_final.T\n",
    "print(datos_final)"
   ]
  },
  {
   "attachments": {},
   "cell_type": "markdown",
   "metadata": {},
   "source": [
    "Convierto la primera fila en nombres de columnas"
   ]
  },
  {
   "cell_type": "code",
   "execution_count": 13,
   "metadata": {},
   "outputs": [
    {
     "name": "stdout",
     "output_type": "stream",
     "text": [
      "name           Expected goals Expected assists Ball possession Total shots  \\\n",
      "home                     3.20             2.60             56%          23   \n",
      "away                     1.81             1.07             44%          15   \n",
      "compareCode                 1                1               1           1   \n",
      "statisticsType       positive         positive        positive    positive   \n",
      "valueType               event            event           event       event   \n",
      "homeValue                 3.2              2.6            56.0        23.0   \n",
      "awayValue                1.81             1.07            44.0        15.0   \n",
      "homeTotal                 NaN              NaN             NaN         NaN   \n",
      "awayTotal                 NaN              NaN             NaN         NaN   \n",
      "\n",
      "name           Shots on target Shots off target Blocked shots Corner kicks  \\\n",
      "home                        10               10             3            6   \n",
      "away                         5                5             5            5   \n",
      "compareCode                  1                1             2            1   \n",
      "statisticsType        positive         negative      negative     positive   \n",
      "valueType                event            event         event        event   \n",
      "homeValue                 10.0             10.0           3.0          6.0   \n",
      "awayValue                  5.0              5.0           5.0          5.0   \n",
      "homeTotal                  NaN              NaN           NaN          NaN   \n",
      "awayTotal                  NaN              NaN           NaN          NaN   \n",
      "\n",
      "name            Offsides     Fouls  ... Accurate passes   Long balls  \\\n",
      "home                   1        10  ...       466 (88%)  21/41 (51%)   \n",
      "away                   3        12  ...       343 (85%)  27/54 (50%)   \n",
      "compareCode            2         2  ...               1            1   \n",
      "statisticsType  negative  negative  ...        positive     positive   \n",
      "valueType          event     event  ...           event         team   \n",
      "homeValue            1.0      10.0  ...           466.0         21.0   \n",
      "awayValue            3.0      12.0  ...           343.0         27.0   \n",
      "homeTotal            NaN       NaN  ...             NaN         41.0   \n",
      "awayTotal            NaN       NaN  ...             NaN         54.0   \n",
      "\n",
      "name               Crosses   Dribbles Possession lost Duels won Aerials won  \\\n",
      "home            9/20 (45%)  6/9 (67%)             101        40          10   \n",
      "away            6/18 (33%)  4/8 (50%)             103        32          11   \n",
      "compareCode              1          1               2         1           2   \n",
      "statisticsType    positive   positive        negative  positive    positive   \n",
      "valueType             team       team           event     event       event   \n",
      "homeValue              9.0        6.0           101.0      40.0        10.0   \n",
      "awayValue              6.0        4.0           103.0      32.0        11.0   \n",
      "homeTotal             20.0        9.0             NaN       NaN         NaN   \n",
      "awayTotal             18.0        8.0             NaN       NaN         NaN   \n",
      "\n",
      "name             Tackles Interceptions Clearances  \n",
      "home                  12             4          7  \n",
      "away                   9             3         22  \n",
      "compareCode            1             1          2  \n",
      "statisticsType  positive      positive   positive  \n",
      "valueType          event         event      event  \n",
      "homeValue           12.0           4.0        7.0  \n",
      "awayValue            9.0           3.0       22.0  \n",
      "homeTotal            NaN           NaN        NaN  \n",
      "awayTotal            NaN           NaN        NaN  \n",
      "\n",
      "[9 rows x 31 columns]\n"
     ]
    }
   ],
   "source": [
    "datos_final.columns = datos_final.iloc[0]\n",
    "datos_final = datos_final[1:]\n",
    "print(datos_final)"
   ]
  },
  {
   "attachments": {},
   "cell_type": "markdown",
   "metadata": {},
   "source": [
    "Extraigo las dos filas (home y away)"
   ]
  },
  {
   "cell_type": "code",
   "execution_count": 14,
   "metadata": {},
   "outputs": [],
   "source": [
    "datos_final_home = datos_final.loc[\"home\"]\n",
    "datos_final_away = datos_final.loc[\"away\"]"
   ]
  },
  {
   "attachments": {},
   "cell_type": "markdown",
   "metadata": {},
   "source": [
    "Las convierto en DataFrames (las filas, al ser unidimensionales se convierten automáticamente en \"Series\" y necesito que sean DataFrames para unirlas)"
   ]
  },
  {
   "cell_type": "code",
   "execution_count": 15,
   "metadata": {},
   "outputs": [],
   "source": [
    "datos_final_home = pd.DataFrame(datos_final_home).transpose()\n",
    "datos_final_away = pd.DataFrame(datos_final_away).transpose()"
   ]
  },
  {
   "attachments": {},
   "cell_type": "markdown",
   "metadata": {},
   "source": [
    "Elimino los índices para que al usar join me ponga los datos en la misma fila (fila = 0)"
   ]
  },
  {
   "cell_type": "code",
   "execution_count": 16,
   "metadata": {},
   "outputs": [],
   "source": [
    "datos_final_home = datos_final_home.reset_index(drop=True)\n",
    "datos_final_away = datos_final_away.reset_index(drop=True)"
   ]
  },
  {
   "attachments": {},
   "cell_type": "markdown",
   "metadata": {},
   "source": [
    "...y hago join"
   ]
  },
  {
   "cell_type": "code",
   "execution_count": 17,
   "metadata": {},
   "outputs": [],
   "source": [
    "final = datos_final_home.join(datos_final_away, lsuffix='_home', how='outer', rsuffix='_away')"
   ]
  },
  {
   "cell_type": "code",
   "execution_count": 18,
   "metadata": {},
   "outputs": [],
   "source": [
    "# Guardar final en un csv\n",
    "final.to_csv(carpeta_datos + \"final.csv\")"
   ]
  },
  {
   "cell_type": "code",
   "execution_count": null,
   "metadata": {},
   "outputs": [],
   "source": []
  }
 ],
 "metadata": {
  "kernelspec": {
   "display_name": "MongoDB-WstLv-gM",
   "language": "python",
   "name": "python3"
  },
  "language_info": {
   "codemirror_mode": {
    "name": "ipython",
    "version": 3
   },
   "file_extension": ".py",
   "mimetype": "text/x-python",
   "name": "python",
   "nbconvert_exporter": "python",
   "pygments_lexer": "ipython3",
   "version": "3.10.9"
  },
  "orig_nbformat": 4
 },
 "nbformat": 4,
 "nbformat_minor": 2
}
